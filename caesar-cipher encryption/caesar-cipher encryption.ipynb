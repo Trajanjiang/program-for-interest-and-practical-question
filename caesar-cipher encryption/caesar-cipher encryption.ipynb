{
 "cells": [
  {
   "cell_type": "code",
   "execution_count": 1,
   "metadata": {
    "collapsed": true
   },
   "outputs": [],
   "source": [
    "# The program is for decoding the particular shift when we do not know the number of particular shift\n",
    "def decode_cipher(n,cipher):\n",
    "    lower_strs='abcdefghijklmnopqrstuvwxyz'\n",
    "    upper_strs='ABCDEFGHIJKLMNOPQRSTUVWXYZ'\n",
    "    plaintext=[]\n",
    "    for word in cipher:\n",
    "        if word.strip(): \n",
    "            if word in lower_strs:\n",
    "                plaintext.append(lower_strs[(lower_strs.index(word)+n)%26])\n",
    "            elif word in upper_strs:\n",
    "                plaintext.append(upper_strs[(upper_strs.index(word)+n)%26])\n",
    "        else: plaintext.append(word)\n",
    "    output=''.join(plaintext)\n",
    "    return output"
   ]
  },
  {
   "cell_type": "code",
   "execution_count": 2,
   "metadata": {
    "collapsed": false
   },
   "outputs": [
    {
     "name": "stdout",
     "output_type": "stream",
     "text": [
      "Enter the cipher you want to decode:\n",
      "upbtu\n",
      "upbtu\n",
      "vqcuv\n",
      "wrdvw\n",
      "xsewx\n",
      "ytfxy\n",
      "zugyz\n",
      "avhza\n",
      "bwiab\n",
      "cxjbc\n",
      "dykcd\n",
      "ezlde\n",
      "famef\n",
      "gbnfg\n",
      "hcogh\n",
      "idphi\n",
      "jeqij\n",
      "kfrjk\n",
      "lgskl\n",
      "mhtlm\n",
      "niumn\n",
      "ojvno\n",
      "pkwop\n",
      "qlxpq\n",
      "rmyqr\n",
      "snzrs\n",
      "toast\n"
     ]
    }
   ],
   "source": [
    "# input the encryption information \n",
    "print(\"Enter the cipher you want to decode:\")\n",
    "encode_information=input()\n",
    "# since we do not know the number of particular, we would try all of them and choose which is the best fit \n",
    "for i in range(0,26):\n",
    "    print (decode_cipher(i,encode_information))"
   ]
  },
  {
   "cell_type": "code",
   "execution_count": null,
   "metadata": {
    "collapsed": true
   },
   "outputs": [],
   "source": []
  }
 ],
 "metadata": {
  "kernelspec": {
   "display_name": "Python 3",
   "language": "python",
   "name": "python3"
  },
  "language_info": {
   "codemirror_mode": {
    "name": "ipython",
    "version": 3
   },
   "file_extension": ".py",
   "mimetype": "text/x-python",
   "name": "python",
   "nbconvert_exporter": "python",
   "pygments_lexer": "ipython3",
   "version": "3.6.0"
  }
 },
 "nbformat": 4,
 "nbformat_minor": 2
}
